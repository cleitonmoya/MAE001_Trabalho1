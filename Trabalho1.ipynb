{
  "nbformat": 4,
  "nbformat_minor": 0,
  "metadata": {
    "colab": {
      "name": "Trabalho1.ipynb",
      "provenance": [],
      "collapsed_sections": [],
      "mount_file_id": "1YNS3m09I3oUBDDYBzc7tA3aC6PdzgGRK",
      "authorship_tag": "ABX9TyMRY1gXmmjMWFhYWypEqKnc"
    },
    "kernelspec": {
      "name": "python3",
      "display_name": "Python 3"
    }
  },
  "cells": [
    {
      "cell_type": "code",
      "metadata": {
        "id": "jLAjtB7VoCKh"
      },
      "source": [
        "import pandas as pd\n",
        "\n",
        "# Dataset load\n",
        "\n",
        "url = 'https://raw.githubusercontent.com/cleitonmoya/MAE001_Trabalho1/main/BBDC4.csv'\n",
        "df = pd.read_csv(url, index_col=0, dayfirst=True, parse_dates=True)\n",
        "df.sort_index(inplace=True)\n",
        "df = df.loc['2019-01-01':'2019-03-31']"
      ],
      "execution_count": null,
      "outputs": []
    },
    {
      "cell_type": "code",
      "metadata": {
        "id": "2QIjuy8BqjmG",
        "outputId": "16bb3cc9-3648-4e7b-eda3-473722286f90",
        "colab": {
          "base_uri": "https://localhost:8080/",
          "height": 235
        }
      },
      "source": [
        "df.head()"
      ],
      "execution_count": null,
      "outputs": [
        {
          "output_type": "execute_result",
          "data": {
            "text/html": [
              "<div>\n",
              "<style scoped>\n",
              "    .dataframe tbody tr th:only-of-type {\n",
              "        vertical-align: middle;\n",
              "    }\n",
              "\n",
              "    .dataframe tbody tr th {\n",
              "        vertical-align: top;\n",
              "    }\n",
              "\n",
              "    .dataframe thead th {\n",
              "        text-align: right;\n",
              "    }\n",
              "</style>\n",
              "<table border=\"1\" class=\"dataframe\">\n",
              "  <thead>\n",
              "    <tr style=\"text-align: right;\">\n",
              "      <th></th>\n",
              "      <th>Abertura</th>\n",
              "      <th>Máxima</th>\n",
              "      <th>Mínima</th>\n",
              "      <th>Fechamento</th>\n",
              "      <th>Volume Financeiro</th>\n",
              "    </tr>\n",
              "    <tr>\n",
              "      <th>Data</th>\n",
              "      <th></th>\n",
              "      <th></th>\n",
              "      <th></th>\n",
              "      <th></th>\n",
              "      <th></th>\n",
              "    </tr>\n",
              "  </thead>\n",
              "  <tbody>\n",
              "    <tr>\n",
              "      <th>2019-01-02</th>\n",
              "      <td>27.59</td>\n",
              "      <td>29.12</td>\n",
              "      <td>27.42</td>\n",
              "      <td>28.83</td>\n",
              "      <td>933912177.0</td>\n",
              "    </tr>\n",
              "    <tr>\n",
              "      <th>2019-01-03</th>\n",
              "      <td>28.78</td>\n",
              "      <td>29.20</td>\n",
              "      <td>28.45</td>\n",
              "      <td>29.12</td>\n",
              "      <td>783288206.0</td>\n",
              "    </tr>\n",
              "    <tr>\n",
              "      <th>2019-01-04</th>\n",
              "      <td>28.88</td>\n",
              "      <td>29.47</td>\n",
              "      <td>28.56</td>\n",
              "      <td>28.89</td>\n",
              "      <td>606268108.0</td>\n",
              "    </tr>\n",
              "    <tr>\n",
              "      <th>2019-01-07</th>\n",
              "      <td>28.81</td>\n",
              "      <td>29.48</td>\n",
              "      <td>28.81</td>\n",
              "      <td>29.23</td>\n",
              "      <td>783195088.0</td>\n",
              "    </tr>\n",
              "    <tr>\n",
              "      <th>2019-01-08</th>\n",
              "      <td>29.31</td>\n",
              "      <td>29.42</td>\n",
              "      <td>28.56</td>\n",
              "      <td>29.41</td>\n",
              "      <td>861152755.0</td>\n",
              "    </tr>\n",
              "  </tbody>\n",
              "</table>\n",
              "</div>"
            ],
            "text/plain": [
              "            Abertura  Máxima  Mínima  Fechamento  Volume Financeiro\n",
              "Data                                                               \n",
              "2019-01-02     27.59   29.12   27.42       28.83        933912177.0\n",
              "2019-01-03     28.78   29.20   28.45       29.12        783288206.0\n",
              "2019-01-04     28.88   29.47   28.56       28.89        606268108.0\n",
              "2019-01-07     28.81   29.48   28.81       29.23        783195088.0\n",
              "2019-01-08     29.31   29.42   28.56       29.41        861152755.0"
            ]
          },
          "metadata": {
            "tags": []
          },
          "execution_count": 9
        }
      ]
    }
  ]
}